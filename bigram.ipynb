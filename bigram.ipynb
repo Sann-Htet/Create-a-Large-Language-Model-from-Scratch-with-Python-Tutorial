{
  "nbformat": 4,
  "nbformat_minor": 0,
  "metadata": {
    "colab": {
      "provenance": [],
      "gpuType": "T4"
    },
    "kernelspec": {
      "name": "python3",
      "display_name": "Python 3"
    },
    "language_info": {
      "name": "python"
    },
    "accelerator": "GPU"
  },
  "cells": [
    {
      "cell_type": "code",
      "source": [
        "import torch\n",
        "import torch.nn as nn\n",
        "from torch.nn import functional as F\n",
        "device = 'cuda' if torch.cuda.is_available() else 'cpu'\n",
        "print(device)\n",
        "block_size = 8\n",
        "batch_size = 4\n",
        "max_iters = 1000\n",
        "# eval_interval = 2500\n",
        "learning_rate = 3e-4\n",
        "eval_iters = 250"
      ],
      "metadata": {
        "id": "JC0hhfSUWgnj",
        "colab": {
          "base_uri": "https://localhost:8080/"
        },
        "outputId": "8dcc6420-979d-4cbc-ce87-be9506fd20d0"
      },
      "execution_count": 19,
      "outputs": [
        {
          "output_type": "stream",
          "name": "stdout",
          "text": [
            "cuda\n"
          ]
        }
      ]
    },
    {
      "cell_type": "code",
      "execution_count": 17,
      "metadata": {
        "colab": {
          "base_uri": "https://localhost:8080/"
        },
        "id": "5puvW6WHU4d5",
        "outputId": "ddac99ab-46ce-458b-de05-934a6a0162f4"
      },
      "outputs": [
        {
          "output_type": "stream",
          "name": "stdout",
          "text": [
            "232307\n"
          ]
        }
      ],
      "source": [
        "with open('wizard_of_oz.txt', 'r', encoding='utf-8') as f:\n",
        "    text = f.read()\n",
        "print(len(text))\n",
        "vocab_size = len(chars)"
      ]
    },
    {
      "cell_type": "code",
      "source": [
        "chars = sorted(set(text))\n",
        "print(chars)\n",
        "print(len(chars))"
      ],
      "metadata": {
        "colab": {
          "base_uri": "https://localhost:8080/"
        },
        "id": "NDMwJ0YoVFbR",
        "outputId": "e8f312c0-cc38-43d6-e893-689c9a50f0db"
      },
      "execution_count": 5,
      "outputs": [
        {
          "output_type": "stream",
          "name": "stdout",
          "text": [
            "['\\n', ' ', '!', '\"', '&', \"'\", '(', ')', '*', ',', '-', '.', '0', '1', '2', '3', '4', '5', '6', '7', '8', '9', ':', ';', '?', 'A', 'B', 'C', 'D', 'E', 'F', 'G', 'H', 'I', 'J', 'K', 'L', 'M', 'N', 'O', 'P', 'Q', 'R', 'S', 'T', 'U', 'V', 'W', 'X', 'Y', 'Z', '[', ']', '_', 'a', 'b', 'c', 'd', 'e', 'f', 'g', 'h', 'i', 'j', 'k', 'l', 'm', 'n', 'o', 'p', 'q', 'r', 's', 't', 'u', 'v', 'w', 'x', 'y', 'z', '\\ufeff']\n",
            "81\n"
          ]
        }
      ]
    },
    {
      "cell_type": "code",
      "source": [
        "string_to_int = {ch:i for i, ch in enumerate(chars)}\n",
        "int_to_string = {i:ch for i, ch in enumerate(chars)}\n",
        "encode = lambda s: [string_to_int[c] for c in s]\n",
        "decode = lambda l: ''.join([int_to_string[i] for i in l])\n",
        "\n",
        "data = torch.tensor(encode(text), dtype=torch.long)\n",
        "print(data[:100])"
      ],
      "metadata": {
        "colab": {
          "base_uri": "https://localhost:8080/"
        },
        "id": "hEZPxWN4VRly",
        "outputId": "a4fb111e-246d-4f0f-8b86-265ceb430a4a"
      },
      "execution_count": 14,
      "outputs": [
        {
          "output_type": "stream",
          "name": "stdout",
          "text": [
            "tensor([80, 28, 39, 42, 39, 44, 32, 49,  1, 25, 38, 28,  1, 44, 32, 29,  1, 47,\n",
            "        33, 50, 25, 42, 28,  1, 33, 38,  1, 39, 50,  0,  0,  1,  1, 26, 49,  0,\n",
            "         0,  1,  1, 36, 11,  1, 30, 42, 25, 38, 35,  1, 26, 25, 45, 37,  0,  0,\n",
            "         1,  1, 25, 45, 44, 32, 39, 42,  1, 39, 30,  1, 44, 32, 29,  1, 47, 33,\n",
            "        50, 25, 42, 28,  1, 39, 30,  1, 39, 50,  9,  1, 44, 32, 29,  1, 36, 25,\n",
            "        38, 28,  1, 39, 30,  1, 39, 50,  9,  1])\n"
          ]
        }
      ]
    },
    {
      "cell_type": "code",
      "source": [
        "n = int(0.8*len(data))\n",
        "train_data = data[:n]\n",
        "val_data = data[n:]\n",
        "\n",
        "def get_batch(split):\n",
        "  data = train_data if split == 'train' else val_data\n",
        "  ix = torch.randint(len(data) - block_size, (batch_size,))\n",
        "  # print(ix)\n",
        "  x = torch.stack([data[i:i+block_size] for i in ix])\n",
        "  y = torch.stack([data[i+1:i+block_size+1] for i in ix])\n",
        "  x, y = x.to(device), y.to(device)\n",
        "  return x, y\n",
        "\n",
        "x, y = get_batch('train')\n",
        "print('input')\n",
        "print(x)\n",
        "print('target')\n",
        "print(y)"
      ],
      "metadata": {
        "id": "RlCfZALpV7C9",
        "colab": {
          "base_uri": "https://localhost:8080/"
        },
        "outputId": "cb986d40-216f-4fb6-8769-a6c98b3c5c32"
      },
      "execution_count": 22,
      "outputs": [
        {
          "output_type": "stream",
          "name": "stdout",
          "text": [
            "input\n",
            "tensor([[72,  1, 54, 67, 57,  0, 59, 65],\n",
            "        [58, 71,  1, 54, 67, 57,  1, 66],\n",
            "        [64, 67, 62, 75, 58, 72,  9,  1],\n",
            "        [57,  9,  3,  1, 61, 58,  1, 58]], device='cuda:0')\n",
            "target\n",
            "tensor([[ 1, 54, 67, 57,  0, 59, 65, 74],\n",
            "        [71,  1, 54, 67, 57,  1, 66, 68],\n",
            "        [67, 62, 75, 58, 72,  9,  1, 76],\n",
            "        [ 9,  3,  1, 61, 58,  1, 58, 77]], device='cuda:0')\n"
          ]
        }
      ]
    },
    {
      "cell_type": "code",
      "source": [
        "x = train_data[:block_size]\n",
        "y = train_data[1:block_size+1]\n",
        "\n",
        "for t in range(block_size):\n",
        "  context = x[:t+1]\n",
        "  target = y[t]\n",
        "  print('when input is', context, 'target is', target)"
      ],
      "metadata": {
        "colab": {
          "base_uri": "https://localhost:8080/"
        },
        "id": "zBdJHuBoYhqW",
        "outputId": "fbcaac33-3b79-41b5-90a8-ff8fae3d191d"
      },
      "execution_count": 8,
      "outputs": [
        {
          "output_type": "stream",
          "name": "stdout",
          "text": [
            "when input is tensor([80]) target is tensor(28)\n",
            "when input is tensor([80, 28]) target is tensor(39)\n",
            "when input is tensor([80, 28, 39]) target is tensor(42)\n",
            "when input is tensor([80, 28, 39, 42]) target is tensor(39)\n",
            "when input is tensor([80, 28, 39, 42, 39]) target is tensor(44)\n",
            "when input is tensor([80, 28, 39, 42, 39, 44]) target is tensor(32)\n",
            "when input is tensor([80, 28, 39, 42, 39, 44, 32]) target is tensor(49)\n",
            "when input is tensor([80, 28, 39, 42, 39, 44, 32, 49]) target is tensor(1)\n"
          ]
        }
      ]
    },
    {
      "cell_type": "code",
      "source": [
        "class BigramLanguageModel(nn.Module):\n",
        "  def __init__(self, vocab_size):\n",
        "    super().__init__()\n",
        "    self.token_embedding_table = nn.Embedding(vocab_size, vocab_size)\n",
        "\n",
        "  def forward(self, index, targets=None):\n",
        "    logits = self.token_embedding_table(index)\n",
        "    if targets is None:\n",
        "      loss = None\n",
        "    else:\n",
        "      B, T, C = logits.shape\n",
        "      logits = logits.view(B*T, C)\n",
        "      targets = targets.view(B*T)\n",
        "      loss = F.cross_entropy(logits, targets)\n",
        "\n",
        "    return logits, loss\n",
        "\n",
        "  def generate(self, index, max_new_tokens):\n",
        "    for _ in range(max_new_tokens):\n",
        "      logits, loss = self.forward(index)\n",
        "      logits = logits[:, -1, :]\n",
        "      probs = F.softmax(logits, dim=-1)\n",
        "      index_next = torch.multinomial(probs, num_samples=1)\n",
        "      index = torch.cat((index, index_next), dim=1)\n",
        "    return index\n",
        "\n",
        "model = BigramLanguageModel(vocab_size)\n",
        "m = model.to(device)\n",
        "\n",
        "context = torch.zeros((1, 1), dtype=torch.long, device=device)\n",
        "generated_chars = decode(m.generate(context, max_new_tokens=500)[0].tolist())\n",
        "print(generated_chars)"
      ],
      "metadata": {
        "id": "5gk26H028gvr",
        "colab": {
          "base_uri": "https://localhost:8080/"
        },
        "outputId": "2b4c5133-ffe0-41aa-b9c4-7fabe789d78f"
      },
      "execution_count": 18,
      "outputs": [
        {
          "output_type": "stream",
          "name": "stdout",
          "text": [
            "\n",
            "﻿N4v!ziM[CY]qgin_24jaxcSb_n?iarYs*64HPv1tiMSeX 6hg0CW3sqg0;_8&IDmFr_KrwA5sfrkUj!;Zp6OQvZLD*MGrFo\"i2'S_I*2)pF*o\"F[uKv3 bv3L5x '4kAkA0]CiC U8VK8?q'(XyrT)N\"iuRJ3IX7Q2zR;yTReLDaSlPW9&IP7z'7'p*Khi2B0&_60yiC Oi5Yocj]I H;-b[yyTzheY-TGBO-u zC vMp*7Fp*75]XM;1'6BjVFnbed5Cp*gfwDN\"c\n",
            "qAC -ulG](XUD﻿0f7.um2t;(XQpaMJm&;:UVKrR( _]?BvO2CwT)P(XQNpwOHuW;-EkJ8?Kl;[Kt3ftCbIX),0]DWrqgrel0HIwLL9D9k O*c7Qw0Xq\n",
            "T)Y]OHEb!bC﻿Xt_AMsy4j_DrH9iO;D8G﻿X7B,.*)jI\n",
            "'Sd\"dQl2t﻿P(Z'?.ja!JLTZ1e-H*Bfzl[_C .hSdY]Ks3m15o:O9-abIKSuX]Uf*SKnNm\n"
          ]
        }
      ]
    },
    {
      "cell_type": "code",
      "source": [
        "@torch.no_grad()\n",
        "def estimate_loss():\n",
        "    out = {}\n",
        "    model.eval()\n",
        "    for split in ['train', 'val']:\n",
        "        losses = torch.zeros(eval_iters)\n",
        "        for k in range(eval_iters):\n",
        "            X, Y = get_batch(split)\n",
        "            logits, loss = model(X, Y)\n",
        "            losses[k] = loss.item()\n",
        "        out[split] = losses.mean()\n",
        "    model.train()\n",
        "    return out"
      ],
      "metadata": {
        "id": "W-Yo22qiRJw8"
      },
      "execution_count": 20,
      "outputs": []
    },
    {
      "cell_type": "code",
      "source": [
        "# create a PyTorch optimizer\n",
        "optimizer = torch.optim.AdamW(model.parameters(), lr=learning_rate)\n",
        "\n",
        "for iter in range(max_iters):\n",
        "    if iter % eval_iters == 0:\n",
        "        losses = estimate_loss()\n",
        "        print(f\"step: {iter}, train loss: {losses['train']:.3f}, val loss: {losses['val']:.3f}\")\n",
        "\n",
        "    # sample a batch of data\n",
        "    xb, yb = get_batch('train')\n",
        "\n",
        "    # evaluate the loss\n",
        "    logits, loss = model.forward(xb, yb)\n",
        "    optimizer.zero_grad(set_to_none=True)\n",
        "    loss.backward()\n",
        "    optimizer.step()\n",
        "print(loss.item())"
      ],
      "metadata": {
        "colab": {
          "base_uri": "https://localhost:8080/"
        },
        "id": "LvreBiUnOvB2",
        "outputId": "c98f5ae9-8f5d-4868-e30b-20301af027cb"
      },
      "execution_count": 23,
      "outputs": [
        {
          "output_type": "stream",
          "name": "stdout",
          "text": [
            "step: 0, train loss: 4.693, val loss: 4.688\n",
            "step: 250, train loss: 4.641, val loss: 4.628\n",
            "step: 500, train loss: 4.572, val loss: 4.573\n",
            "step: 750, train loss: 4.520, val loss: 4.501\n",
            "4.428039073944092\n"
          ]
        }
      ]
    },
    {
      "cell_type": "code",
      "source": [
        "context = torch.zeros((1,1), dtype=torch.long, device=device)\n",
        "generated_chars = decode(m.generate(context, max_new_tokens=500)[0].tolist())\n",
        "print(generated_chars)"
      ],
      "metadata": {
        "colab": {
          "base_uri": "https://localhost:8080/"
        },
        "id": "UCAvSkQ_Rc8m",
        "outputId": "cb468d68-1aa7-42fa-ebc6-ec7a530a0cfb"
      },
      "execution_count": 24,
      "outputs": [
        {
          "output_type": "stream",
          "name": "stdout",
          "text": [
            "\n",
            "g0JMtZAMOT!TpF'w!01'MGisH_ftxPr l5SGbn'SGz8f7\"OimkzdGL60Ws\n",
            "UeXfwLfcZ:gKC F(XtE]t﻿X.j,.zqql-)1!qY0O*Ayf4g il05nDk:d*0f9\"﻿JBkuJ3pIXkiNT1AJ\n",
            "6I?WFsm1Ajw.K:4SNN\"2'VDV:eLEd-hO2CRUe;xv)11N\"eX3ya.dvL.GU;KrLt tXaM]t_B2 pa.fV_sP-ve5]*Ek!]KN\"p5][(M:OF.Ir﻿v2[?;t8rep:ed .zi5SB(djy.SHY8R2aDc\"O46;dGo3f1QwO7.JcvlM:j,c2]t9k﻿.8CR O4]?xkCv&b.QbAhaczdQZWeY-wz'6M﻿_RHMLyV!Qh0&td2lFDinIlOHP1j&'﻿.zor,(iF,V9T)sSovlix l)4jy3Lis_A-TX?H)e][isvix9rb,?6:9o\" 5R6\"i\n",
            "Wn(BDg\n",
            "SqeXL.6xlxZ1o\"T:w!Z41TB-u-H:Xyt11'6&H[C l4kwBR;m?Eul&Sl\n"
          ]
        }
      ]
    },
    {
      "cell_type": "markdown",
      "source": [
        "---"
      ],
      "metadata": {
        "id": "m2-UvezZSkED"
      }
    }
  ]
}